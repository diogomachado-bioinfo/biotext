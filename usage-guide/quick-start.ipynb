{
 "cells": [
  {
   "cell_type": "markdown",
   "id": "aa7e86a3-8e8b-401c-9d95-270283945116",
   "metadata": {},
   "source": [
    "<div style=\"font-size: 26px;\n",
    "            font-weight: bol;\n",
    "            text-transform: uppercase;\n",
    "            color: green\">\n",
    "Biotext: a Python library to work with natural language like biological sequence\n",
    "</div>\n",
    "<div style=\"font-size: 16px;\n",
    "            font-weight: normal;\n",
    "            font-style: italic;\">\n",
    "Diogo de J. S. Machado\n",
    "</div>\n",
    "\n",
    "---"
   ]
  },
  {
   "cell_type": "markdown",
   "id": "2ca52d05-9c07-4dd3-a15c-dfa35fb6823c",
   "metadata": {},
   "source": [
    "Biotext is a package that provides resources to encode texts written in natural language into a format based on FASTA files, typically used for representing biological sequences. In addition, it offers other tools that support text mining operations using encoded strings."
   ]
  },
  {
   "cell_type": "markdown",
   "id": "4723c630-e365-4cd7-b9ab-16dff72e7fe6",
   "metadata": {},
   "source": [
    "---\n",
    "# Quick start"
   ]
  },
  {
   "cell_type": "markdown",
   "id": "3a85ba5e-aaca-4157-8288-adb2d05ccd65",
   "metadata": {},
   "source": [
    "## Encodes string in FASTA like format"
   ]
  },
  {
   "cell_type": "markdown",
   "id": "0bc8bfb8-17e5-4987-9819-15a4cf57bdd5",
   "metadata": {},
   "source": [
    "The biotext has two methods to encode strings: **AMINOcode** and **DNAbits**."
   ]
  },
  {
   "cell_type": "markdown",
   "id": "da1ac9f8-3657-4412-9e75-f49d627387f6",
   "metadata": {},
   "source": [
    "---\n",
    "### AMINOcode"
   ]
  },
  {
   "cell_type": "markdown",
   "id": "fe413801-15f6-4758-a3cf-b9679a133915",
   "metadata": {},
   "source": [
    "#### Enconde\n",
    "\n",
    "AMINOcode is based on the application of a character substitution through a dictionary, where the characters are reduced to the set that makes up the representation of amino acids in the FASTA format, that is 20 letters. To encompass a greater characters number, vowel and vowel-sounding letters (Y and W) are represented by combinations of 2 letters, while consonants are represented by isolated letters. In the base version, all digits are generalized by a fixed pair of characters, as well the points, but is possible add detailing options, which the digits and/or dots are represented by 3 characters, allowing differentiation.\n",
    "<br><br>\n",
    "The encoding is called by the \"aminocode.encode_string\" function, with the verbosity defined by the optional \"detail\" parameter. Use \"d\" for details in digits; \"p\" for details on the punctuation; \"dp\" or \"pd\" for both."
   ]
  },
  {
   "cell_type": "code",
   "execution_count": 1,
   "id": "117168cb-e668-48f0-a889-cbf1a8748b98",
   "metadata": {},
   "outputs": [
    {
     "name": "stdout",
     "output_type": "stream",
     "text": [
      "String encoded with AMINOcode using no detail:\n",
      "HYELLYQYSYWYQRLDYPWYSYDQYPCYSYDTYPCYSYDHYPEYPEYPE\n",
      "\n",
      "String encoded with AMINOcode using digits detail:\n",
      "HYELLYQYSYWYQRLDYPYSYDQYPYSYDTYPYSYDHYPYPYP\n",
      "\n",
      "String encoded with AMINOcode using points detail:\n",
      "HYELLYQYSYWYQRLDYPWYSYDYPCYSYDYPCYSYDYPEYPEYPE\n",
      "\n",
      "String encoded with AMINOcode using digits and points detail:\n",
      "HYELLYQYSYWYQRLDYPWYSYDQYPCYSYDTYPCYSYDHYPEYPEYPE\n",
      "\n"
     ]
    }
   ],
   "source": [
    "# import biotext lib\n",
    "import biotext as bt\n",
    "\n",
    "string = \"Hello world! 1, 2, 3...\"\n",
    "\n",
    "# encondig with base AMINOcode using no detail\n",
    "encoded_string_ac = bt.aminocode.encode_string(string)\n",
    "print(\"String encoded with AMINOcode using no detail:\\n%s\\n\" % encoded_string_ac)\n",
    "\n",
    "# encondig with AMINOcode using digits detail\n",
    "encoded_string_ac_d = bt.aminocode.encode_string(string,detail=\"d\")\n",
    "print(\"String encoded with AMINOcode using digits detail:\\n%s\\n\" % encoded_string_ac_d)\n",
    "\n",
    "# encondig with AMINOcode using points detail\n",
    "encoded_string_ac_p = bt.aminocode.encode_string(string,detail=\"p\")\n",
    "print(\"String encoded with AMINOcode using points detail:\\n%s\\n\" % encoded_string_ac_p)\n",
    "\n",
    "# encondig with AMINOcode using digits and points detail\n",
    "encoded_string_ac_db = bt.aminocode.encode_string(string,detail=\"dp\")\n",
    "print(\"String encoded with AMINOcode using digits and points detail:\\n%s\\n\" % encoded_string_ac_db)"
   ]
  },
  {
   "cell_type": "markdown",
   "id": "31bb5d89-0213-4656-a0a6-7aaffd3e5d37",
   "metadata": {},
   "source": [
    "#### Decode\n",
    "\n",
    "It is also possible decode the strings, however the generalized character details are lost. For decoding, use the same detail specification as encoding."
   ]
  },
  {
   "cell_type": "code",
   "execution_count": 2,
   "id": "16660a9b",
   "metadata": {},
   "outputs": [
    {
     "name": "stdout",
     "output_type": "stream",
     "text": [
      "String decoded with base AMINOcode using no detail:\n",
      "hello world! 1, 2, 3...\n",
      "\n",
      "String decoded with AMINOcode using digits detail:\n",
      "hello world. 1. 2. 3...\n",
      "\n",
      "String decoded with AMINOcode using points detail:\n",
      "hello world! 9, 9, 9...\n",
      "\n",
      "String decoded with AMINOcode using digits and points detail:\n",
      "hello world! 1, 2, 3...\n",
      "\n"
     ]
    }
   ],
   "source": [
    "# decoding with base AMINOcode using no detail\n",
    "decoded_string_ac = bt.aminocode.decode_string(encoded_string_ac)\n",
    "print(\"String decoded with base AMINOcode using no detail:\\n%s\\n\" % decoded_string_ac)\n",
    "\n",
    "# decoding with AMINOcode using digits detail\n",
    "decoded_string_ac_d = bt.aminocode.decode_string(encoded_string_ac_d,detail=\"d\")\n",
    "print(\"String decoded with AMINOcode using digits detail:\\n%s\\n\" % decoded_string_ac_d)\n",
    "\n",
    "# decoding with AMINOcode using points detail\n",
    "decoded_string_ac_p = bt.aminocode.decode_string(encoded_string_ac_p,detail=\"p\")\n",
    "print(\"String decoded with AMINOcode using points detail:\\n%s\\n\" % decoded_string_ac_p)\n",
    "\n",
    "# decoding with AMINOcode using digits and points detail\n",
    "decoded_string_ac_dp = bt.aminocode.decode_string(encoded_string_ac_db,detail=\"dp\")\n",
    "print(\"String decoded with AMINOcode using digits and points detail:\\n%s\\n\" % decoded_string_ac_dp)"
   ]
  },
  {
   "cell_type": "markdown",
   "id": "2a059fe7",
   "metadata": {},
   "source": [
    "---\n",
    "### DNAbits"
   ]
  },
  {
   "cell_type": "markdown",
   "id": "62d5a899",
   "metadata": {},
   "source": [
    "#### Enconde\n",
    "\n",
    "The DNAbits method works in two steps: replacing characters with binary form in ASCII; and replacement of the binary digits, two by two, by the characters A, C, T or G, according to a fixed rule."
   ]
  },
  {
   "cell_type": "code",
   "execution_count": 3,
   "id": "ccd8e3bb",
   "metadata": {},
   "outputs": [
    {
     "name": "stdout",
     "output_type": "stream",
     "text": [
      "String encoded with base DNAbits:\n",
      "AGACCCGCATGCATGCTTGCAAGATCTCTTGCGATCATGCACGCCAGAAAGACATAATGAAAGAGATAATGAAAGATATAGTGAGTGAGTGA\n",
      "\n"
     ]
    }
   ],
   "source": [
    "# import biotext lib\n",
    "import biotext as bt\n",
    "\n",
    "string = \"Hello world! 1, 2, 3...\"\n",
    "\n",
    "# encondig with DNAbits\n",
    "encoded_string_db = bt.dnabits.encode_string(string)\n",
    "print(\"String encoded with base DNAbits:\\n%s\\n\" % encoded_string_db)"
   ]
  },
  {
   "cell_type": "markdown",
   "id": "244db1a5",
   "metadata": {},
   "source": [
    "#### Decode\n",
    "\n",
    "Decoding with DNAbits preserves all ASCII characters."
   ]
  },
  {
   "cell_type": "code",
   "execution_count": 4,
   "id": "76b36126",
   "metadata": {},
   "outputs": [
    {
     "name": "stdout",
     "output_type": "stream",
     "text": [
      "String decoded with base DNAbits:\n",
      "Hello world! 1, 2, 3...\n",
      "\n"
     ]
    }
   ],
   "source": [
    "# import biotext lib\n",
    "import biotext as bt\n",
    "\n",
    "string = \"Hello world! 1, 2, 3...\"\n",
    "\n",
    "# encondig with DNAbits\n",
    "decoded_string_db = bt.dnabits.decode_string(encoded_string_db)\n",
    "print(\"String decoded with base DNAbits:\\n%s\\n\" % decoded_string_db)"
   ]
  }
 ],
 "metadata": {
  "kernelspec": {
   "display_name": "Python 3",
   "language": "python",
   "name": "python3"
  },
  "language_info": {
   "codemirror_mode": {
    "name": "ipython",
    "version": 3
   },
   "file_extension": ".py",
   "mimetype": "text/x-python",
   "name": "python",
   "nbconvert_exporter": "python",
   "pygments_lexer": "ipython3",
   "version": "3.8.8"
  },
  "toc-autonumbering": true
 },
 "nbformat": 4,
 "nbformat_minor": 5
}
